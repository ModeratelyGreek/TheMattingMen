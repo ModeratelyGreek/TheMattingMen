{
 "cells": [
  {
   "metadata": {
    "ExecuteTime": {
     "end_time": "2024-04-29T21:40:37.006987Z",
     "start_time": "2024-04-29T21:40:36.598384Z"
    }
   },
   "cell_type": "code",
   "source": [
    "from __future__ import division\n",
    "import cv2\n",
    "import numpy as np\n",
    "from numpy.lib.stride_tricks import as_strided\n",
    "import scipy.sparse\n",
    "import scipy.sparse.linalg\n",
    "import pypardiso\n",
    "import pandas as pd"
   ],
   "outputs": [],
   "execution_count": 7
  },
  {
   "metadata": {
    "ExecuteTime": {
     "end_time": "2024-04-29T21:40:37.026635Z",
     "start_time": "2024-04-29T21:40:37.008962Z"
    }
   },
   "cell_type": "code",
   "source": [
    "\"\"\"This module implements natural image matting method described in:\n",
    "    Levin, Anat, Dani Lischinski, and Yair Weiss. \"A closed-form solution to natural image matting.\"\n",
    "    IEEE Transactions on Pattern Analysis and Machine Intelligence 30.2 (2008): 228-242.\n",
    "\n",
    "\"\"\"\n",
    "\n",
    "def _rolling_block(A, block=(3, 3)):\n",
    "    \"\"\"Applies sliding window to given matrix.\"\"\"\n",
    "    shape = (A.shape[0] - block[0] + 1, A.shape[1] - block[1] + 1) + block\n",
    "    strides = (A.strides[0], A.strides[1]) + A.strides\n",
    "    return as_strided(A, shape=shape, strides=strides)\n",
    "\n",
    "\n",
    "def compute_laplacian(img: np.ndarray, mask=None, eps: float =10**(-7), win_rad: int =1):\n",
    "    \"\"\"Computes Matting Laplacian for a given image.\n",
    "\n",
    "    Args:\n",
    "        img: 3-dim numpy matrix with input image\n",
    "        mask: mask of pixels for which Laplacian will be computed.\n",
    "            If not set Laplacian will be computed for all pixels.\n",
    "        eps: regularization parameter controlling alpha smoothness\n",
    "            from Eq. 12 of the original paper. Defaults to 1e-7.\n",
    "        win_rad: radius of window used to build Matting Laplacian (i.e.\n",
    "            radius of omega_k in Eq. 12).\n",
    "    Returns: sparse matrix holding Matting Laplacian.\n",
    "    \"\"\"\n",
    "\n",
    "    win_size = (win_rad * 2 + 1) ** 2\n",
    "    h, w, d = img.shape\n",
    "    # Number of window centre indices in h, w axes\n",
    "    c_h, c_w = h - 2 * win_rad, w - 2 * win_rad\n",
    "    win_diam = win_rad * 2 + 1\n",
    "\n",
    "    indsM = np.arange(h * w).reshape((h, w))\n",
    "    ravelImg = img.reshape(h * w, d)\n",
    "    win_inds = _rolling_block(indsM, block=(win_diam, win_diam))\n",
    "\n",
    "    win_inds = win_inds.reshape(c_h, c_w, win_size)\n",
    "    if mask is not None:\n",
    "        mask = cv2.dilate(\n",
    "            mask.astype(np.uint8),\n",
    "            np.ones((win_diam, win_diam), np.uint8)\n",
    "        ).astype(bool)\n",
    "        win_mask = np.sum(mask.ravel()[win_inds], axis=2)\n",
    "        win_inds = win_inds[win_mask > 0, :]\n",
    "    else:\n",
    "        win_inds = win_inds.reshape(-1, win_size)\n",
    "\n",
    "    \n",
    "    winI = ravelImg[win_inds]\n",
    "\n",
    "    win_mu = np.mean(winI, axis=1, keepdims=True)\n",
    "    win_var = np.einsum('...ji,...jk ->...ik', winI, winI) / win_size - np.einsum('...ji,...jk ->...ik', win_mu, win_mu)\n",
    "\n",
    "    A = win_var + (eps/win_size)*np.eye(3)\n",
    "    B = (winI - win_mu).transpose(0, 2, 1)\n",
    "    X = np.linalg.solve(A, B).transpose(0, 2, 1)\n",
    "    vals = np.eye(win_size) - (1.0/win_size)*(1 + X @ B)\n",
    "\n",
    "    nz_indsCol = np.tile(win_inds, win_size).ravel()\n",
    "    nz_indsRow = np.repeat(win_inds, win_size).ravel()\n",
    "    nz_indsVal = vals.ravel()\n",
    "\n",
    "    # rewrite L in CSR format\n",
    "    L = scipy.sparse.coo_matrix((nz_indsVal, (nz_indsRow, nz_indsCol)), shape=(h*w, h*w))\n",
    "    return L\n",
    "\n",
    "\n",
    "def closed_form_matting_with_prior(image, prior, prior_confidence, consts_map=None):\n",
    "    \"\"\"Applies closed form matting with prior alpha map to image.\n",
    "\n",
    "    Args:\n",
    "        image: 3-dim numpy matrix with input image.\n",
    "        prior: matrix of same width and height as input image holding apriori alpha map.\n",
    "        prior_confidence: matrix of the same shape as prior hodling confidence of prior alpha.\n",
    "        consts_map: binary mask of pixels that aren't expected to change due to high\n",
    "            prior confidence.\n",
    "\n",
    "    Returns: 2-dim matrix holding computed alpha map.\n",
    "    \"\"\"\n",
    "\n",
    "    assert image.shape[:2] == prior.shape, ('prior must be 2D matrix with height and width equal '\n",
    "                                            'to image.')\n",
    "    assert image.shape[:2] == prior_confidence.shape, ('prior_confidence must be 2D matrix with '\n",
    "                                                       'height and width equal to image.')\n",
    "    assert (consts_map is None) or image.shape[:2] == consts_map.shape, (\n",
    "        'consts_map must be 2D matrix with height and width equal to image.')\n",
    "\n",
    "    print('Computing Matting Laplacian.')\n",
    "    laplacian = compute_laplacian(image, ~consts_map if consts_map is not None else None)\n",
    "    confidence = scipy.sparse.diags(prior_confidence.ravel())\n",
    "    print('Solving for alpha.')\n",
    "    solution = pypardiso.spsolve(\n",
    "        laplacian + confidence,\n",
    "        prior.ravel() * prior_confidence.ravel()\n",
    "    )\n",
    "    alpha = np.minimum(np.maximum(solution.reshape(prior.shape), 0), 1)\n",
    "    return alpha\n",
    "\n",
    "\n",
    "def closed_form_matting_with_scribbles(image, scribbles, scribbles_confidence=100.0):\n",
    "    \"\"\"Apply Closed-Form matting to given image using scribbles image.\"\"\"\n",
    "\n",
    "    assert image.shape[:2] == scribbles.shape, 'scribbles must have exactly same shape as image.'\n",
    "    consts_map = scribbles != 0.5\n",
    "    return closed_form_matting_with_prior(\n",
    "        image,\n",
    "        scribbles,\n",
    "        scribbles_confidence * consts_map,\n",
    "        consts_map\n",
    "    )"
   ],
   "outputs": [],
   "execution_count": 8
  },
  {
   "cell_type": "code",
   "source": [
    "image = cv2.imread(\"image.jpg\", cv2.IMREAD_COLOR) / 255.0\n",
    "scaled_image = cv2.resize(image, (0, 0), fx = 0.5, fy = 0.5)\n",
    "\n",
    "scribbles = np.ones_like(scaled_image[:,:,1]) / 2\n",
    "\n",
    "center = (25, 300)  # Example center\n",
    "radius = 10 # Example radius\n",
    "x, y = np.ogrid[:scribbles.shape[0], :scribbles.shape[1]]\n",
    "mask = ((x - center[0])**2 + (y - center[1])**2) <= radius**2\n",
    "\n",
    "scribbles[mask] = 1.0\n",
    "\n",
    "center = (25, 50)  # Example center\n",
    "radius = 10  # Example radius\n",
    "x, y = np.ogrid[:scribbles.shape[0], :scribbles.shape[1]]\n",
    "mask = ((x - center[0])**2 + (y - center[1])**2) <= radius**2\n",
    "\n",
    "scribbles[mask] = 1.0\n",
    "\n",
    "center = (100, 150)  # Example center\n",
    "radius = 10  # Example radius\n",
    "x, y = np.ogrid[:scribbles.shape[0], :scribbles.shape[1]]\n",
    "mask = ((x - center[0])**2 + (y - center[1])**2) <= radius**2\n",
    "\n",
    "scribbles[mask] = 0.0\n",
    "\n",
    "center = (225, 200)  # Example center\n",
    "radius = 10  # Example radius\n",
    "x, y = np.ogrid[:scribbles.shape[0], :scribbles.shape[1]]\n",
    "mask = ((x - center[0])**2 + (y - center[1])**2) <= radius**2\n",
    "\n",
    "scribbles[mask] = 0.0\n",
    "\n",
    "alpha = closed_form_matting_with_scribbles(scaled_image, scribbles)\n",
    "cv2.imwrite(\"alpha_matte.png\", alpha * 255.0)"
   ],
   "metadata": {
    "collapsed": false,
    "ExecuteTime": {
     "end_time": "2024-04-29T21:36:11.836963Z",
     "start_time": "2024-04-29T21:36:01.730428Z"
    }
   },
   "outputs": [
    {
     "name": "stdout",
     "output_type": "stream",
     "text": [
      "Computing Matting Laplacian.\n",
      "Solving for alpha.\n"
     ]
    },
    {
     "data": {
      "text/plain": [
       "True"
      ]
     },
     "execution_count": 3,
     "metadata": {},
     "output_type": "execute_result"
    }
   ],
   "execution_count": 3
  },
  {
   "cell_type": "code",
   "source": [
    "mask = cv2.imread(\"mask.png\", cv2.IMREAD_UNCHANGED)[:,:,3]\n",
    "mask = cv2.resize(mask, (0, 0), fx = 0.5, fy = 0.5)\n",
    "\n",
    "##MSE\n",
    "MSE = np.mean((alpha - mask) ** 2)\n",
    "\n",
    "##PSNR\n",
    "PSNR = 20 * np.log10(255 / np.sqrt(MSE))\n",
    "\n",
    "##SAD\n",
    "SAD = np.sum(np.abs(alpha - mask))\n",
    "\n",
    "df = pd.DataFrame(columns = [\"MSE\", \"PSNR\", \"SAD\"])\n",
    "\n",
    "df.loc[\"test\"] = [MSE, PSNR, SAD]\n",
    "\n",
    "df"
   ],
   "metadata": {
    "collapsed": false,
    "ExecuteTime": {
     "end_time": "2024-04-29T21:40:41.104122Z",
     "start_time": "2024-04-29T21:40:41.058090Z"
    }
   },
   "outputs": [
    {
     "data": {
      "text/plain": [
       "               MSE      PSNR           SAD\n",
       "test  42222.675627  1.875346  2.009405e+07"
      ],
      "text/html": [
       "<div>\n",
       "<style scoped>\n",
       "    .dataframe tbody tr th:only-of-type {\n",
       "        vertical-align: middle;\n",
       "    }\n",
       "\n",
       "    .dataframe tbody tr th {\n",
       "        vertical-align: top;\n",
       "    }\n",
       "\n",
       "    .dataframe thead th {\n",
       "        text-align: right;\n",
       "    }\n",
       "</style>\n",
       "<table border=\"1\" class=\"dataframe\">\n",
       "  <thead>\n",
       "    <tr style=\"text-align: right;\">\n",
       "      <th></th>\n",
       "      <th>MSE</th>\n",
       "      <th>PSNR</th>\n",
       "      <th>SAD</th>\n",
       "    </tr>\n",
       "  </thead>\n",
       "  <tbody>\n",
       "    <tr>\n",
       "      <th>test</th>\n",
       "      <td>42222.675627</td>\n",
       "      <td>1.875346</td>\n",
       "      <td>2.009405e+07</td>\n",
       "    </tr>\n",
       "  </tbody>\n",
       "</table>\n",
       "</div>"
      ]
     },
     "execution_count": 9,
     "metadata": {},
     "output_type": "execute_result"
    }
   ],
   "execution_count": 9
  },
  {
   "cell_type": "code",
   "source": [
    "import matplotlib.pyplot as plt\n",
    "plt.imshow(mask)"
   ],
   "metadata": {
    "collapsed": false,
    "ExecuteTime": {
     "end_time": "2024-04-29T21:36:19.301767Z",
     "start_time": "2024-04-29T21:36:18.280556Z"
    }
   },
   "outputs": [
    {
     "data": {
      "text/plain": [
       "<matplotlib.image.AxesImage at 0x182638901d0>"
      ]
     },
     "execution_count": 5,
     "metadata": {},
     "output_type": "execute_result"
    },
    {
     "data": {
      "text/plain": [
       "<Figure size 640x480 with 1 Axes>"
      ],
      "image/png": "[encoded data removed]"
     },
     "metadata": {},
     "output_type": "display_data"
    }
   ],
   "execution_count": 5
  }
 ],
 "metadata": {
  "kernelspec": {
   "display_name": "Python 3",
   "language": "python",
   "name": "python3"
  },
  "language_info": {
   "codemirror_mode": {
    "name": "ipython",
    "version": 3
   },
   "file_extension": ".py",
   "mimetype": "text/x-python",
   "name": "python",
   "nbconvert_exporter": "python",
   "pygments_lexer": "ipython3",
   "version": "3.12.3"
  }
 },
 "nbformat": 4,
 "nbformat_minor": 2
}
