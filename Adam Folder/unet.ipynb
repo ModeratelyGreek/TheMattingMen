{
 "cells": [
  {
   "cell_type": "code",
   "execution_count": 2,
   "metadata": {},
   "outputs": [],
   "source": [
    "from torch.nn import Module, Conv2d, Linear, MaxPool2d, ReLU, Softmax, Flatten, Dropout, BCELoss\n",
    "from torch.optim import Adam\n",
    "import torch"
   ]
  },
  {
   "cell_type": "code",
   "execution_count": null,
   "metadata": {},
   "outputs": [],
   "source": []
  },
  {
   "cell_type": "code",
   "execution_count": null,
   "metadata": {},
   "outputs": [],
   "source": [
    "class Unet(Module):\n",
    "    def __init__(self):\n",
    "        super().__init__()\n",
    "        self.conv1 = Conv2d(480000, 64, (5, 5), stide=(1,1), padding_mode=\"zeros\")\n",
    "        self.relu1 = ReLU()\n",
    "        self.conv2 = Conv2d(64, 64, (5, 5), stide=(1,1), padding_mode=\"zeros\")\n",
    "        self.relu2 = ReLU()\n",
    "        self.maxpool1 = MaxPool2d(kernel_size=(2, 2), stide=(1, 1))\n",
    "        self.conv3 = Conv2d(64, 128, (5, 5), stide=(1,1), padding_mode=\"zeros\")\n",
    "        self.relu3 = ReLU()\n",
    "        self.conv4 = Conv2d(128, 128, (5, 5), stide=(1,1), padding_mode=\"zeros\")\n",
    "        self.relu4 = ReLU()\n",
    "        self.maxpool2 = MaxPool2d(kernel_size=(2, 2), stide=(1, 1))\n",
    "        self.flatten = Flatten()\n",
    "        self.fc1 = Linear(16384, 128)\n",
    "        self.dropout1 = Dropout(0.25)\n",
    "        self.fc2 = Linear(128, 64)\n",
    "        self.dropout2 = Dropout(0.25)\n",
    "        self.output = Softmax(2)\n",
    "    def forward(self, x):\n",
    "        x = self.conv1(x)\n",
    "        x  = self.relu1(x)\n",
    "        x = self.conv2(x)\n",
    "        x = self.relu2(x)\n",
    "        x = self.maxpool1(x)\n",
    "        x = self.conv3(x)\n",
    "        x = self.relu3(x)\n",
    "        x = self.conv4(x)\n",
    "        x = self.relu4(x)\n",
    "        x = self.maxpool2(x)\n",
    "        x = self.flatten(x)\n",
    "        x = self.fc1(x)\n",
    "        x = self.droput1(x)\n",
    "        x = self.fc2(x)\n",
    "        x = self.dropout2(x)\n",
    "        x = self.output(x)\n",
    "        return x\n",
    "        \n",
    "        \n"
   ]
  },
  {
   "cell_type": "code",
   "execution_count": null,
   "metadata": {},
   "outputs": [],
   "source": [
    "model = Unet()\n",
    "loss = BCELoss()\n",
    "opt = Adam(model.parameters(), lr=0.001)"
   ]
  },
  {
   "cell_type": "code",
   "execution_count": null,
   "metadata": {},
   "outputs": [],
   "source": [
    "epochs = 20\n",
    "batch_size = 512\n",
    "for epoch in range(epochs):\n",
    "    for i, img in enumerate(train_x):\n",
    "        y_pred = model(img)\n",
    "        current_loss = loss(y_pred, train_y[i])\n",
    "        opt.zero_grad()\n",
    "        loss.backward()\n",
    "        opt.step()\n",
    "\n",
    "    for i, img in enumerate(train_x):\n",
    "        y_pred = model(img)\n",
    "        "
   ]
  }
 ],
 "metadata": {
  "kernelspec": {
   "display_name": "Python 3",
   "language": "python",
   "name": "python3"
  },
  "language_info": {
   "codemirror_mode": {
    "name": "ipython",
    "version": 3
   },
   "file_extension": ".py",
   "mimetype": "text/x-python",
   "name": "python",
   "nbconvert_exporter": "python",
   "pygments_lexer": "ipython3",
   "version": "3.12.2"
  }
 },
 "nbformat": 4,
 "nbformat_minor": 2
}
