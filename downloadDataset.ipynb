{
 "cells": [
  {
   "cell_type": "markdown",
   "metadata": {},
   "source": [
    "# The MattingMen Proudly Present: Image Matting, Neural and Classical"
   ]
  },
  {
   "cell_type": "markdown",
   "metadata": {},
   "source": [
    "### Download the Dataset"
   ]
  },
  {
   "cell_type": "code",
   "execution_count": null,
   "metadata": {},
   "outputs": [],
   "source": [
    "import gdown\n",
    "from zipfile import ZipFile\n",
    "import pandas as pd\n",
    "import os\n",
    "\n",
    "def download_and_extract(zip_url, extract_to='./archive/', zip_path='temp.zip'):\n",
    "    file_id = zip_url.split('/')[-2]\n",
    "    drive_url = f\"https://drive.google.com/uc?id={file_id}\"\n",
    "    gdown.download(drive_url, zip_path, quiet=False)\n",
    "    \n",
    "    with ZipFile(zip_path, 'r') as zip_ref: \n",
    "        zip_ref.extractall(extract_to)\n",
    "    os.remove(zip_path)\n",
    "\n",
    "google_drive_link = \"https://drive.google.com/file/d/1ZWjgJ762I40bYn9DC9IDAsDbvwJ8Dqm5/view?usp=drive_link\"\n",
    "download_and_extract(google_drive_link)"
   ]
  },
  {
   "cell_type": "markdown",
   "metadata": {},
   "source": [
    "#### Double Check That It's Working"
   ]
  },
  {
   "cell_type": "code",
   "execution_count": 1,
   "metadata": {},
   "outputs": [
    {
     "name": "stdout",
     "output_type": "stream",
     "text": [
      "            image_name                                               path  \\\n",
      "0  1803232244-00000010  ./archive/matting/1803232244/matting_00000000/...   \n",
      "1  1803232244-00000428  ./archive/matting/1803232244/matting_00000000/...   \n",
      "2  1803232244-00000372  ./archive/matting/1803232244/matting_00000000/...   \n",
      "3  1803232244-00000399  ./archive/matting/1803232244/matting_00000000/...   \n",
      "4  1803232244-00000158  ./archive/matting/1803232244/matting_00000000/...   \n",
      "\n",
      "      type  \n",
      "0  matting  \n",
      "1  matting  \n",
      "2  matting  \n",
      "3  matting  \n",
      "4  matting  \n"
     ]
    }
   ],
   "source": [
    "def create_image_dataframe(root_dir):\n",
    "    data = []\n",
    "    \n",
    "    for subdir, dirs, files in os.walk(root_dir):\n",
    "        for file in files:\n",
    "            if 'clip_' in subdir:\n",
    "                image_type = 'clip'\n",
    "            elif 'matting_' in subdir:\n",
    "                image_type = 'matting'\n",
    "            else:\n",
    "                continue\n",
    "                \n",
    "            filename_without_extension = os.path.splitext(file)[0]\n",
    "            full_path = os.path.join(subdir, file)\n",
    "            \n",
    "            data.append([filename_without_extension, full_path, image_type])\n",
    "    \n",
    "    df = pd.DataFrame(data, columns=['image_name', 'path', 'type'])\n",
    "    return df\n",
    "\n",
    "root_directory = './archive/'\n",
    "image_df = create_image_dataframe(root_directory)\n",
    "\n",
    "print(image_df.head())\n"
   ]
  }
 ],
 "metadata": {
  "kernelspec": {
   "display_name": "Python 3",
   "language": "python",
   "name": "python3"
  },
  "language_info": {
   "codemirror_mode": {
    "name": "ipython",
    "version": 3
   },
   "file_extension": ".py",
   "mimetype": "text/x-python",
   "name": "python",
   "nbconvert_exporter": "python",
   "pygments_lexer": "ipython3",
   "version": "3.12.0"
  }
 },
 "nbformat": 4,
 "nbformat_minor": 2
}
