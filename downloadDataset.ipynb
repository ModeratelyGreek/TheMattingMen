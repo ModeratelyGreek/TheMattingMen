{
 "cells": [
  {
   "cell_type": "markdown",
   "metadata": {},
   "source": [
    "# The MattingMen Proudly Present: Image Matting, Neural and Classical"
   ]
  },
  {
   "cell_type": "markdown",
   "metadata": {},
   "source": [
    "### Download the Dataset"
   ]
  },
  {
   "cell_type": "code",
   "execution_count": null,
   "metadata": {},
   "outputs": [],
   "source": [
    "import gdown\n",
    "from zipfile import ZipFile\n",
    "import os\n",
    "\n",
    "def download_and_extract(zip_url, extract_to='./archive/', zip_path='temp.zip'):\n",
    "    file_id = zip_url.split('/')[-2]\n",
    "    drive_url = f\"https://drive.google.com/uc?id={file_id}\"\n",
    "    gdown.download(drive_url, zip_path, quiet=False)\n",
    "    \n",
    "    with ZipFile(zip_path, 'r') as zip_ref: \n",
    "        zip_ref.extractall(extract_to)\n",
    "    os.remove(zip_path)\n",
    "\n",
    "\n",
    "google_drive_link = \"https://drive.google.com/file/d/1ZWjgJ762I40bYn9DC9IDAsDbvwJ8Dqm5/view?usp=drive_link\"\n",
    "download_and_extract(google_drive_link)\n"
   ]
  },
  {
   "cell_type": "code",
   "execution_count": null,
   "metadata": {},
   "outputs": [],
   "source": []
  }
 ],
 "metadata": {
  "kernelspec": {
   "display_name": "Python 3",
   "language": "python",
   "name": "python3"
  },
  "language_info": {
   "name": "python",
   "version": "3.12.0"
  }
 },
 "nbformat": 4,
 "nbformat_minor": 2
}
